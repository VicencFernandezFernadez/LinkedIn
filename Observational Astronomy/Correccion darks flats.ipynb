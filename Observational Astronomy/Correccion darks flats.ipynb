{
 "cells": [
  {
   "cell_type": "code",
   "execution_count": 34,
   "id": "e91ab025",
   "metadata": {},
   "outputs": [],
   "source": [
    "import sys, glob, os\n",
    "import warnings\n",
    "warnings.filterwarnings(\"ignore\")\n",
    "\n",
    "import numpy as np\n",
    "import pandas as pd\n",
    "import matplotlib.pyplot as plt\n",
    "import time\n",
    "\n",
    "\n",
    "from astropy.io import fits\n",
    "from astropy.wcs import WCS\n",
    "from astropy.table import Table, hstack, join, vstack, unique\n"
   ]
  },
  {
   "cell_type": "code",
   "execution_count": 52,
   "id": "eaf1b370",
   "metadata": {},
   "outputs": [
    {
     "name": "stdout",
     "output_type": "stream",
     "text": [
      "Flats available:  9 \n",
      "\n",
      "Darks from flats exp time available:  4 \n",
      "\n",
      "Darks available:  4 \n",
      "\n",
      "Lights availible:  4 \n",
      "\n"
     ]
    }
   ],
   "source": [
    "flats = glob.glob(\"C:/Users/Vicen/OneDrive/Escritorio/astro obs/fotometria/imagenes/ngc869/Jhonson B/30s/flats/*fit\")\n",
    "print('Flats available: ', len(flats), '\\n')\n",
    "\n",
    "flat_darks=glob.glob(\"C:/Users/Vicen/OneDrive/Escritorio/astro obs/fotometria/imagenes/ngc869/Jhonson B/30s/darks/*fit\")\n",
    "print('Darks from flats exp time available: ', len(flat_darks), '\\n')\n",
    "\n",
    "darks=glob.glob(\"C:/Users/Vicen/OneDrive/Escritorio/astro obs/fotometria/imagenes/ngc869/Jhonson B/30s/darks/*fit\")\n",
    "print('Darks available: ', len(darks), '\\n')\n",
    "\n",
    "images=glob.glob(\"C:/Users/Vicen/OneDrive/Escritorio/astro obs/fotometria/imagenes/ngc869/Jhonson B/30s/lights/*fit\")\n",
    "print('Lights availible: ', len(images), '\\n')\n",
    "\n",
    "Corregides=\"C:/Users/Vicen/OneDrive/Escritorio/astro obs/fotometria/imagenes/ngc869/Jhonson B/30s/Corregidas\"\n",
    "\n",
    "Object='NGC869'"
   ]
  },
  {
   "cell_type": "markdown",
   "id": "53f10f90",
   "metadata": {},
   "source": [
    "## Master dark"
   ]
  },
  {
   "cell_type": "code",
   "execution_count": 36,
   "id": "c16a2bd1",
   "metadata": {},
   "outputs": [],
   "source": [
    "#Darks amb temps d'exposició de imatges\n",
    "fit=fits.open(darks[0])\n",
    "\n",
    "arr=(fit[0].data)\n",
    "for i in range(1,len(darks)):\n",
    "    fit=fits.open(darks[i])\n",
    "    new_arr=fit[0].data\n",
    "    arr+=new_arr\n",
    "master_dark=arr/len(darks)\n",
    "\n",
    "hdr=fit[0].header\n",
    "hdr['File_type']='Master_Dark'\n",
    "MasterDark_fits = fits.PrimaryHDU(master_dark, header=hdr)\n"
   ]
  },
  {
   "cell_type": "code",
   "execution_count": 37,
   "id": "c994e633",
   "metadata": {
    "scrolled": false
   },
   "outputs": [
    {
     "data": {
      "text/plain": [
       "SIMPLE  =                    T / conforms to FITS standard                      \n",
       "BITPIX  =                  -64 / array data type                                \n",
       "NAXIS   =                    2 / number of array dimensions                     \n",
       "NAXIS1  =                 4096                                                  \n",
       "NAXIS2  =                 4096                                                  \n",
       "DATE-OBS= '2023-11-23T17:49:42' /YYYY-MM-DDThh:mm:ss observation start, UT      \n",
       "EXPTIME =   30.000000000000000 /Exposure time in seconds                        \n",
       "EXPOSURE=   30.000000000000000 /Exposure time in seconds                        \n",
       "SET-TEMP=  -15.000000000000000 /CCD temperature setpoint in C                   \n",
       "CCD-TEMP=  -14.956620216369629 /CCD temperature at start of exposure in C       \n",
       "XPIXSZ  =   9.0000000000000000 /Pixel Width in microns (after binning)          \n",
       "YPIXSZ  =   9.0000000000000000 /Pixel Height in microns (after binning)         \n",
       "XBINNING=                    1 /Binning factor in width                         \n",
       "YBINNING=                    1 /Binning factor in height                        \n",
       "XORGSUBF=                    0 /Subframe X position in binned pixels            \n",
       "YORGSUBF=                    0 /Subframe Y position in binned pixels            \n",
       "IMAGETYP= 'Dark Frame' /        Type of image                                   \n",
       "FOCUSPOS=                17196 /Focuser position in steps                       \n",
       "FOCUSSSZ=   1.0000000000000000 /Focuser step size in microns                    \n",
       "FOCUSTEM=   9.4000000000000004 /Focuser temperature in deg C                    \n",
       "OBJCTRA = '02 22 36' /          Nominal Right Ascension of center of image      \n",
       "OBJCTDEC= '+57 08 50' /         Nominal Declination of center of image          \n",
       "OBJCTHA = ' -2.4050' /          Nominal hour angle of center of image           \n",
       "PIERSIDE= 'WEST    ' /          Side of pier telescope is on                    \n",
       "JD      =   2460272.2428472224 /Julian Date at start of exposure                \n",
       "JD-HELIO=   2460272.2473546001 /Heliocentric Julian Date at exposure midpoint   \n",
       "FOCALLEN=  0.00000000000000000 /Focal length of telescope in mm                 \n",
       "APTDIA  =  0.00000000000000000 /Aperture diameter of telescope in mm            \n",
       "APTAREA =  0.00000000000000000 /Aperture area of telescope in mm^2              \n",
       "SWCREATE= 'MaxIm DL Version 5.12' /Name of software that created the image      \n",
       "SBSTDVER= 'SBFITSEXT Version 1.0' /Version of SBFITSEXT standard in effect      \n",
       "OBJECT  = '        '                                                            \n",
       "TELESCOP= '        ' /          telescope used to acquire this image            \n",
       "INSTRUME= 'G4-16000, Id: 6077'                                                  \n",
       "OBSERVER= '        '                                                            \n",
       "NOTES   = '        '                                                            \n",
       "FLIPSTAT= '        '                                                            \n",
       "SWOWNER = 'Consorci del Montsec-3' /Licensed owner of software                  \n",
       "HIERARCH File_type = 'Master_Dark'                                              "
      ]
     },
     "execution_count": 37,
     "metadata": {},
     "output_type": "execute_result"
    }
   ],
   "source": [
    "MasterDark_fits.header"
   ]
  },
  {
   "cell_type": "code",
   "execution_count": 38,
   "id": "cd6cd7dd",
   "metadata": {},
   "outputs": [
    {
     "data": {
      "text/plain": [
       "array([[542.  , 542.25, 539.  , ..., 545.25, 542.75, 545.75],\n",
       "       [555.75, 538.75, 538.5 , ..., 536.75, 539.75, 543.25],\n",
       "       [549.75, 538.75, 538.5 , ..., 531.75, 536.75, 539.75],\n",
       "       ...,\n",
       "       [554.25, 545.75, 544.5 , ..., 537.  , 538.  , 550.5 ],\n",
       "       [554.25, 540.  , 538.75, ..., 533.25, 535.5 , 549.25],\n",
       "       [557.75, 538.75, 547.  , ..., 539.75, 540.5 , 541.75]])"
      ]
     },
     "execution_count": 38,
     "metadata": {},
     "output_type": "execute_result"
    }
   ],
   "source": [
    "MasterDark_fits.data"
   ]
  },
  {
   "cell_type": "code",
   "execution_count": 39,
   "id": "87daab8d",
   "metadata": {},
   "outputs": [],
   "source": [
    "#Dark amb temps d'exposició de flats\n",
    "\n",
    "fit=fits.open(flat_darks[0])\n",
    "arr=(fit[0].data)\n",
    "for i in range(1,len(flat_darks)):\n",
    "    fit=fits.open(flat_darks[i])\n",
    "    new_arr=fit[0].data\n",
    "    arr+=new_arr\n",
    "masterdark_de_flats=arr/len(flat_darks)\n",
    "\n",
    "hdr=fit[0].header\n",
    "hdr['File_type']='Master_Dark_t_exp_flats'\n",
    "MasterDark_de_flats_fits = fits.PrimaryHDU(masterdark_de_flats, header=hdr)"
   ]
  },
  {
   "cell_type": "code",
   "execution_count": 40,
   "id": "ce9356cb",
   "metadata": {},
   "outputs": [
    {
     "data": {
      "text/plain": [
       "array([[542.  , 542.25, 539.  , ..., 545.25, 542.75, 545.75],\n",
       "       [555.75, 538.75, 538.5 , ..., 536.75, 539.75, 543.25],\n",
       "       [549.75, 538.75, 538.5 , ..., 531.75, 536.75, 539.75],\n",
       "       ...,\n",
       "       [554.25, 545.75, 544.5 , ..., 537.  , 538.  , 550.5 ],\n",
       "       [554.25, 540.  , 538.75, ..., 533.25, 535.5 , 549.25],\n",
       "       [557.75, 538.75, 547.  , ..., 539.75, 540.5 , 541.75]])"
      ]
     },
     "execution_count": 40,
     "metadata": {},
     "output_type": "execute_result"
    }
   ],
   "source": [
    "MasterDark_de_flats_fits.data"
   ]
  },
  {
   "cell_type": "markdown",
   "id": "3e4a6b9a",
   "metadata": {},
   "source": [
    "## Correcció de flats"
   ]
  },
  {
   "cell_type": "code",
   "execution_count": 41,
   "id": "a996a6b8",
   "metadata": {},
   "outputs": [],
   "source": [
    "\n",
    "fit=fits.open(flats[0])\n",
    "arr=np.array((fit[0].data), dtype=np.float64)\n",
    "for i in range(1,len(flats)):\n",
    "    fit=fits.open(flats[i])\n",
    "    new_arr=fit[0].data - masterdark_de_flats\n",
    "    arr+=new_arr\n",
    "    \n",
    "masterflat=arr/len(flats)\n",
    "\n",
    "hdr=fit[0].header\n",
    "hdr['File_type']='Master_Flat'\n",
    "MasterFlat_fits = fits.PrimaryHDU(masterflat, header=hdr)"
   ]
  },
  {
   "cell_type": "code",
   "execution_count": 42,
   "id": "d82c62ed",
   "metadata": {},
   "outputs": [
    {
     "name": "stdout",
     "output_type": "stream",
     "text": [
      "[[14350.88888889 14095.55555556 14209.33333333 ... 13727.\n",
      "  13994.         14158.88888889]\n",
      " [14222.88888889 14316.22222222 13960.         ... 13837.\n",
      "  13787.         13883.11111111]\n",
      " [14389.88888889 14013.66666667 13900.11111111 ... 13826.44444444\n",
      "  13774.22222222 13868.66666667]\n",
      " ...\n",
      " [14294.11111111 14116.77777778 14424.55555556 ... 14242.77777778\n",
      "  14083.55555556 14293.44444444]\n",
      " [14108.55555556 14360.22222222 14114.55555556 ... 14275.22222222\n",
      "  14444.33333333 14425.44444444]\n",
      " [14700.77777778 14165.66666667 14056.         ... 14154.33333333\n",
      "  14330.55555556 14173.77777778]]\n"
     ]
    }
   ],
   "source": [
    "print(MasterFlat_fits.data)"
   ]
  },
  {
   "cell_type": "markdown",
   "id": "29f7d2ed",
   "metadata": {},
   "source": [
    "## Correcció de lights"
   ]
  },
  {
   "cell_type": "code",
   "execution_count": 43,
   "id": "1bb77aa1",
   "metadata": {},
   "outputs": [
    {
     "name": "stdout",
     "output_type": "stream",
     "text": [
      "Filename: C:/Users/arnau/OneDrive/Escritorio/astro obs/fotometria/imagenes/ngc869/Jhonson B/30s/lights\\NGC869-001_B_30s.fit\n",
      "No.    Name      Ver    Type      Cards   Dimensions   Format\n",
      "  0  PRIMARY       1 PrimaryHDU      41   (4096, 4096)   int16 (rescales to uint16)   \n"
     ]
    }
   ],
   "source": [
    "fit_image=fits.open(images[0])\n",
    "fit_image.info()"
   ]
  },
  {
   "cell_type": "code",
   "execution_count": 65,
   "id": "83193b95",
   "metadata": {},
   "outputs": [],
   "source": [
    "media_flat=np.median(MasterFlat_fits.data)\n",
    "\n",
    "counter = 0\n",
    "for im in images:\n",
    "    fit_image=fits.open(im)\n",
    "    fit_corr=(fit_image[0].data-MasterDark_fits.data)/(MasterFlat_fits.data)*media_flat\n",
    "    \n",
    "    hdr=fit_image[0].header\n",
    "    hdr['File_type']='Corrected_image'\n",
    "    Corr_image_fits = fits.PrimaryHDU(fit_corr, header=hdr)\n",
    "    \n",
    "    Corr_image_fits.writeto(Corregides+'/'+Object+'_'+hdr['Filter']+'_'+str(hdr['EXPtime'])+'s_'+str(counter)+\"_corr.fits\")\n",
    "    counter += 1"
   ]
  },
  {
   "cell_type": "code",
   "execution_count": 64,
   "id": "2984e9d4",
   "metadata": {},
   "outputs": [
    {
     "name": "stdout",
     "output_type": "stream",
     "text": [
      "C:/Users/arnau/OneDrive/Escritorio/astro obs/fotometria/imagenes/ngc869/Jhonson B/30s/lights\\NGC869-001_B_30s.fit\n"
     ]
    }
   ],
   "source": [
    "print(im)"
   ]
  },
  {
   "cell_type": "code",
   "execution_count": 62,
   "id": "e6eeeb51",
   "metadata": {},
   "outputs": [
    {
     "name": "stdout",
     "output_type": "stream",
     "text": [
      "C:/Users/arnau/OneDrive/Escritorio/astro obs/fotometria/imagenes/ngc869/Jhonson B/30s/Corregidas/NGC869_Johnson B_1.0s_0_corr.fits\n"
     ]
    }
   ],
   "source": [
    "path='C:/Users/arnau/OneDrive/Escritorio/astro obs/fotometria/imagenes/ngc869/Jhonson B/30s/lights'\n",
    "print(Corregides+'/'+Object+'_'+hdr['Filter']+'_'+str(hdr['EXPtime'])+'s_'+str(counter)+\"_corr.fits\")"
   ]
  }
 ],
 "metadata": {
  "kernelspec": {
   "display_name": "Python 3 (ipykernel)",
   "language": "python",
   "name": "python3"
  },
  "language_info": {
   "codemirror_mode": {
    "name": "ipython",
    "version": 3
   },
   "file_extension": ".py",
   "mimetype": "text/x-python",
   "name": "python",
   "nbconvert_exporter": "python",
   "pygments_lexer": "ipython3",
   "version": "3.11.5"
  }
 },
 "nbformat": 4,
 "nbformat_minor": 5
}
